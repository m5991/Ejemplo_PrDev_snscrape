{
 "cells": [
  {
   "cell_type": "markdown",
   "id": "ab18eaea",
   "metadata": {},
   "source": [
    "# Ejemplo snscrape"
   ]
  },
  {
   "cell_type": "markdown",
   "id": "d72c893b",
   "metadata": {},
   "source": [
    "## Realizar un análisis de sentimiento de 1,000 tweets para saber el consenso general (positivo, negativo, neutral) del término de búsqueda \"Donald Trump\"."
   ]
  },
  {
   "cell_type": "markdown",
   "id": "b8d664c3",
   "metadata": {},
   "source": [
    "Librerías utilizadas"
   ]
  },
  {
   "cell_type": "code",
   "execution_count": 1,
   "id": "c20ea9df",
   "metadata": {},
   "outputs": [],
   "source": [
    "import pandas as pd\n",
    "from tqdm.notebook import tqdm\n",
    "import snscrape.modules.twitter as sntwitter\n",
    "import matplotlib.pyplot  as plt"
   ]
  },
  {
   "cell_type": "markdown",
   "id": "cb71a7bc",
   "metadata": {},
   "source": [
    "Se define el Scrapper"
   ]
  },
  {
   "cell_type": "code",
   "execution_count": 2,
   "id": "c9829627",
   "metadata": {},
   "outputs": [],
   "source": [
    "scraper = sntwitter.TwitterSearchScraper(\"Donald Trump\")"
   ]
  },
  {
   "cell_type": "code",
   "execution_count": 3,
   "id": "22ebcf86",
   "metadata": {},
   "outputs": [],
   "source": [
    "for tweet in scraper.get_items():\n",
    "    break"
   ]
  },
  {
   "cell_type": "markdown",
   "id": "b1b06dfc",
   "metadata": {},
   "source": [
    "Objeto tweet"
   ]
  },
  {
   "cell_type": "code",
   "execution_count": 4,
   "id": "5f6a19b4",
   "metadata": {
    "scrolled": true
   },
   "outputs": [
    {
     "data": {
      "text/plain": [
       "Tweet(url='https://twitter.com/Aenfoco/status/1638393121863094272', date=datetime.datetime(2023, 3, 22, 4, 12, 14, tzinfo=datetime.timezone.utc), rawContent='#PensándoloBien (programa completo) con Gonzalo Sánchez - 21/03/23 https://t.co/x29DQXxtws vía @Aenfoco #BuenMartes #corralito IVA al 24% El PBI Ventura #DonaldTrump Duggan Corea del Norte Corazza Otoño Ferraresi', renderedContent='#PensándoloBien (programa completo) con Gonzalo Sánchez - 21/03/23 actualidadenfoco.com/pensandolo-bie… vía @Aenfoco #BuenMartes #corralito IVA al 24% El PBI Ventura #DonaldTrump Duggan Corea del Norte Corazza Otoño Ferraresi', id=1638393121863094272, user=User(username='Aenfoco', id=1026266576176205825, displayname='Actualidad en foco', rawDescription='Noticias e información de los principales programas de radio de AMBA. Temas de actualidad nacional. CM: @riddlyrabbit - Foto: VH S/Pexels.', renderedDescription='Noticias e información de los principales programas de radio de AMBA. Temas de actualidad nacional. CM: @riddlyrabbit - Foto: VH S/Pexels.', descriptionLinks=None, verified=False, created=datetime.datetime(2018, 8, 6, 0, 39, 53, tzinfo=datetime.timezone.utc), followersCount=4359, friendsCount=807, statusesCount=28847, favouritesCount=3193, listedCount=32, mediaCount=1201, location='Buenos Aires, Argentina', protected=False, link=TextLink(text='actualidadenfoco.com', url='http://www.actualidadenfoco.com', tcourl='https://t.co/X6wLiPHtjg', indices=(0, 23)), profileImageUrl='https://pbs.twimg.com/profile_images/1612621467769835520/oIColT8R_normal.jpg', profileBannerUrl='https://pbs.twimg.com/profile_banners/1026266576176205825/1673230145', label=None), replyCount=0, retweetCount=0, likeCount=0, quoteCount=0, conversationId=1638393121863094272, lang='es', source='<a href=\"http://twitter.com/#!/download/ipad\" rel=\"nofollow\">Twitter for iPad</a>', sourceUrl='http://twitter.com/#!/download/ipad', sourceLabel='Twitter for iPad', links=[TextLink(text='actualidadenfoco.com/pensandolo-bie…', url='https://actualidadenfoco.com/pensandolo-bien-programa-completo-con-gonzalo-sanchez-21-03-23/', tcourl='https://t.co/x29DQXxtws', indices=(67, 90))], media=None, retweetedTweet=None, quotedTweet=None, inReplyToTweetId=None, inReplyToUser=None, mentionedUsers=[User(username='Aenfoco', id=1026266576176205825, displayname='Actualidad en foco', rawDescription=None, renderedDescription=None, descriptionLinks=None, verified=None, created=None, followersCount=None, friendsCount=None, statusesCount=None, favouritesCount=None, listedCount=None, mediaCount=None, location=None, protected=None, link=None, profileImageUrl=None, profileBannerUrl=None, label=None)], coordinates=None, place=None, hashtags=['PensándoloBien', 'BuenMartes', 'corralito', 'DonaldTrump'], cashtags=None, card=SummaryCard(title='\"Pensándolo bien\" (programa completo) con Gonzalo Sánchez - 21/03/23 • Actualidad En Foco', url='https://actualidadenfoco.com/pensandolo-bien-programa-completo-con-gonzalo-sanchez-21-03-23/', description='Programa completo \"Pensándolo bien\", con Gonzalo Sánchez, Mariana Martín, Marcelo Birmajer, Gonzalo Garcés y Miguel Wiñazki. Incluye el pase con Eleonora', thumbnailUrl='https://pbs.twimg.com/card_img/1637115738547707906/TWUOYJiR?format=jpg&name=orig', siteUser=User(username='Aenfoco', id=1026266576176205825, displayname='Actualidad en foco', rawDescription='Noticias e información de los principales programas de radio de AMBA. Temas de actualidad nacional. CM: @riddlyrabbit - Foto: VH S/Pexels.', renderedDescription='Noticias e información de los principales programas de radio de AMBA. Temas de actualidad nacional. CM: @riddlyrabbit - Foto: VH S/Pexels.', descriptionLinks=None, verified=False, created=datetime.datetime(2018, 8, 6, 0, 39, 53, tzinfo=datetime.timezone.utc), followersCount=4359, friendsCount=807, statusesCount=28847, favouritesCount=3193, listedCount=32, mediaCount=1201, location='Buenos Aires, Argentina', protected=False, link=TextLink(text='actualidadenfoco.com', url='http://www.actualidadenfoco.com', tcourl='https://t.co/X6wLiPHtjg', indices=(0, 23)), profileImageUrl='https://pbs.twimg.com/profile_images/1612621467769835520/oIColT8R_normal.jpg', profileBannerUrl='https://pbs.twimg.com/profile_banners/1026266576176205825/1673230145', label=None), creatorUser=User(username='Aenfoco', id=1026266576176205825, displayname='Actualidad en foco', rawDescription='Noticias e información de los principales programas de radio de AMBA. Temas de actualidad nacional. CM: @riddlyrabbit - Foto: VH S/Pexels.', renderedDescription='Noticias e información de los principales programas de radio de AMBA. Temas de actualidad nacional. CM: @riddlyrabbit - Foto: VH S/Pexels.', descriptionLinks=None, verified=False, created=datetime.datetime(2018, 8, 6, 0, 39, 53, tzinfo=datetime.timezone.utc), followersCount=4359, friendsCount=807, statusesCount=28847, favouritesCount=3193, listedCount=32, mediaCount=1201, location='Buenos Aires, Argentina', protected=False, link=TextLink(text='actualidadenfoco.com', url='http://www.actualidadenfoco.com', tcourl='https://t.co/X6wLiPHtjg', indices=(0, 23)), profileImageUrl='https://pbs.twimg.com/profile_images/1612621467769835520/oIColT8R_normal.jpg', profileBannerUrl='https://pbs.twimg.com/profile_banners/1026266576176205825/1673230145', label=None)), viewCount=None, vibe=None)"
      ]
     },
     "execution_count": 4,
     "metadata": {},
     "output_type": "execute_result"
    }
   ],
   "source": [
    "tweet"
   ]
  },
  {
   "cell_type": "markdown",
   "id": "9ee80d86",
   "metadata": {},
   "source": [
    "Se extraen los datos importantes de un tweet y se guardan en un dataframe"
   ]
  },
  {
   "cell_type": "code",
   "execution_count": 5,
   "id": "54276736",
   "metadata": {},
   "outputs": [
    {
     "data": {
      "application/vnd.jupyter.widget-view+json": {
       "model_id": "b967f351c13b4074834439e2f6856022",
       "version_major": 2,
       "version_minor": 0
      },
      "text/plain": [
       "  0%|          | 0/100 [00:00<?, ?it/s]"
      ]
     },
     "metadata": {},
     "output_type": "display_data"
    }
   ],
   "source": [
    "tweets = []\n",
    "ntweets = 100\n",
    "for i, tweet in tqdm(enumerate(scraper.get_items()), total = ntweets):\n",
    "    data = [\n",
    "        tweet.date,\n",
    "        tweet.id,\n",
    "        tweet.rawContent,\n",
    "        tweet.user.username,\n",
    "        tweet.likeCount,\n",
    "        tweet.retweetCount\n",
    "    ]\n",
    "    tweets.append(data)\n",
    "    \n",
    "    if i >= ntweets:\n",
    "        break\n",
    "\n",
    "df = pd.DataFrame(\n",
    "    tweets, columns=[\"date\", \"id\", \"content\", \"username\", \"like_count\", \"retweet_count\"])\n",
    "df.to_csv(\"../results/tweets.csv\", index=False)"
   ]
  },
  {
   "cell_type": "code",
   "execution_count": 6,
   "id": "a6b68748",
   "metadata": {},
   "outputs": [
    {
     "data": {
      "text/html": [
       "<div>\n",
       "<style scoped>\n",
       "    .dataframe tbody tr th:only-of-type {\n",
       "        vertical-align: middle;\n",
       "    }\n",
       "\n",
       "    .dataframe tbody tr th {\n",
       "        vertical-align: top;\n",
       "    }\n",
       "\n",
       "    .dataframe thead th {\n",
       "        text-align: right;\n",
       "    }\n",
       "</style>\n",
       "<table border=\"1\" class=\"dataframe\">\n",
       "  <thead>\n",
       "    <tr style=\"text-align: right;\">\n",
       "      <th></th>\n",
       "      <th>date</th>\n",
       "      <th>id</th>\n",
       "      <th>content</th>\n",
       "      <th>username</th>\n",
       "      <th>like_count</th>\n",
       "      <th>retweet_count</th>\n",
       "    </tr>\n",
       "  </thead>\n",
       "  <tbody>\n",
       "    <tr>\n",
       "      <th>0</th>\n",
       "      <td>2023-03-22 04:12:14+00:00</td>\n",
       "      <td>1638393121863094272</td>\n",
       "      <td>#PensándoloBien (programa completo) con Gonzal...</td>\n",
       "      <td>Aenfoco</td>\n",
       "      <td>0</td>\n",
       "      <td>0</td>\n",
       "    </tr>\n",
       "    <tr>\n",
       "      <th>1</th>\n",
       "      <td>2023-03-22 04:12:07+00:00</td>\n",
       "      <td>1638393090783191040</td>\n",
       "      <td>@JoJoFromJerz 8 years and counting....so when'...</td>\n",
       "      <td>whipplewart</td>\n",
       "      <td>0</td>\n",
       "      <td>0</td>\n",
       "    </tr>\n",
       "    <tr>\n",
       "      <th>2</th>\n",
       "      <td>2023-03-22 04:12:05+00:00</td>\n",
       "      <td>1638393082273226753</td>\n",
       "      <td>@noclador Who's Donald Trump?</td>\n",
       "      <td>Zatananas</td>\n",
       "      <td>0</td>\n",
       "      <td>0</td>\n",
       "    </tr>\n",
       "    <tr>\n",
       "      <th>3</th>\n",
       "      <td>2023-03-22 04:12:03+00:00</td>\n",
       "      <td>1638393075138437122</td>\n",
       "      <td>Donald trump is NOT a Republican !!!!!He is a ...</td>\n",
       "      <td>EricaGotcha</td>\n",
       "      <td>0</td>\n",
       "      <td>0</td>\n",
       "    </tr>\n",
       "    <tr>\n",
       "      <th>4</th>\n",
       "      <td>2023-03-22 04:12:01+00:00</td>\n",
       "      <td>1638393064619233281</td>\n",
       "      <td>Hey Jim Jordan Your committee is a joke, espec...</td>\n",
       "      <td>LKaye2</td>\n",
       "      <td>0</td>\n",
       "      <td>0</td>\n",
       "    </tr>\n",
       "    <tr>\n",
       "      <th>...</th>\n",
       "      <td>...</td>\n",
       "      <td>...</td>\n",
       "      <td>...</td>\n",
       "      <td>...</td>\n",
       "      <td>...</td>\n",
       "      <td>...</td>\n",
       "    </tr>\n",
       "    <tr>\n",
       "      <th>96</th>\n",
       "      <td>2023-03-22 04:04:26+00:00</td>\n",
       "      <td>1638391156085239808</td>\n",
       "      <td>@hornersaz53 @LeadingReport I heard, Pres. Don...</td>\n",
       "      <td>TinaMSchmidt2</td>\n",
       "      <td>0</td>\n",
       "      <td>0</td>\n",
       "    </tr>\n",
       "    <tr>\n",
       "      <th>97</th>\n",
       "      <td>2023-03-22 04:04:24+00:00</td>\n",
       "      <td>1638391149894283264</td>\n",
       "      <td>@The_Trump_Train Yes he needs too be arrested....</td>\n",
       "      <td>Elizabe13881685</td>\n",
       "      <td>0</td>\n",
       "      <td>0</td>\n",
       "    </tr>\n",
       "    <tr>\n",
       "      <th>98</th>\n",
       "      <td>2023-03-22 04:04:24+00:00</td>\n",
       "      <td>1638391149533511683</td>\n",
       "      <td>Donald Trump may finally face an indictment ht...</td>\n",
       "      <td>BestFinanciall</td>\n",
       "      <td>0</td>\n",
       "      <td>0</td>\n",
       "    </tr>\n",
       "    <tr>\n",
       "      <th>99</th>\n",
       "      <td>2023-03-22 04:04:16+00:00</td>\n",
       "      <td>1638391114528067586</td>\n",
       "      <td>Donald Trump, where are you going?🏑 https://t....</td>\n",
       "      <td>wuxiangshengxi</td>\n",
       "      <td>0</td>\n",
       "      <td>0</td>\n",
       "    </tr>\n",
       "    <tr>\n",
       "      <th>100</th>\n",
       "      <td>2023-03-22 04:04:10+00:00</td>\n",
       "      <td>1638391089009664005</td>\n",
       "      <td>Random Trump https://t.co/jiepMeikVo - #random...</td>\n",
       "      <td>randomtrump1</td>\n",
       "      <td>0</td>\n",
       "      <td>0</td>\n",
       "    </tr>\n",
       "  </tbody>\n",
       "</table>\n",
       "<p>101 rows × 6 columns</p>\n",
       "</div>"
      ],
      "text/plain": [
       "                         date                   id  \\\n",
       "0   2023-03-22 04:12:14+00:00  1638393121863094272   \n",
       "1   2023-03-22 04:12:07+00:00  1638393090783191040   \n",
       "2   2023-03-22 04:12:05+00:00  1638393082273226753   \n",
       "3   2023-03-22 04:12:03+00:00  1638393075138437122   \n",
       "4   2023-03-22 04:12:01+00:00  1638393064619233281   \n",
       "..                        ...                  ...   \n",
       "96  2023-03-22 04:04:26+00:00  1638391156085239808   \n",
       "97  2023-03-22 04:04:24+00:00  1638391149894283264   \n",
       "98  2023-03-22 04:04:24+00:00  1638391149533511683   \n",
       "99  2023-03-22 04:04:16+00:00  1638391114528067586   \n",
       "100 2023-03-22 04:04:10+00:00  1638391089009664005   \n",
       "\n",
       "                                               content         username  \\\n",
       "0    #PensándoloBien (programa completo) con Gonzal...          Aenfoco   \n",
       "1    @JoJoFromJerz 8 years and counting....so when'...      whipplewart   \n",
       "2                        @noclador Who's Donald Trump?        Zatananas   \n",
       "3    Donald trump is NOT a Republican !!!!!He is a ...      EricaGotcha   \n",
       "4    Hey Jim Jordan Your committee is a joke, espec...           LKaye2   \n",
       "..                                                 ...              ...   \n",
       "96   @hornersaz53 @LeadingReport I heard, Pres. Don...    TinaMSchmidt2   \n",
       "97   @The_Trump_Train Yes he needs too be arrested....  Elizabe13881685   \n",
       "98   Donald Trump may finally face an indictment ht...   BestFinanciall   \n",
       "99   Donald Trump, where are you going?🏑 https://t....   wuxiangshengxi   \n",
       "100  Random Trump https://t.co/jiepMeikVo - #random...     randomtrump1   \n",
       "\n",
       "     like_count  retweet_count  \n",
       "0             0              0  \n",
       "1             0              0  \n",
       "2             0              0  \n",
       "3             0              0  \n",
       "4             0              0  \n",
       "..          ...            ...  \n",
       "96            0              0  \n",
       "97            0              0  \n",
       "98            0              0  \n",
       "99            0              0  \n",
       "100           0              0  \n",
       "\n",
       "[101 rows x 6 columns]"
      ]
     },
     "execution_count": 6,
     "metadata": {},
     "output_type": "execute_result"
    }
   ],
   "source": [
    "df"
   ]
  },
  {
   "cell_type": "markdown",
   "id": "14d8c103",
   "metadata": {},
   "source": [
    "Se utiliza una librería de análisis de sentimiento preentrenada"
   ]
  },
  {
   "cell_type": "code",
   "execution_count": 7,
   "id": "ae1c45ab",
   "metadata": {},
   "outputs": [],
   "source": [
    "from vaderSentiment.vaderSentiment import SentimentIntensityAnalyzer"
   ]
  },
  {
   "cell_type": "code",
   "execution_count": 8,
   "id": "d1ab327f",
   "metadata": {
    "scrolled": true
   },
   "outputs": [],
   "source": [
    "def sentiment_vader(sentence):\n",
    "\n",
    "    # Create a SentimentIntensityAnalyzer object.\n",
    "    sid_obj = SentimentIntensityAnalyzer()\n",
    "\n",
    "    sentiment_dict = sid_obj.polarity_scores(sentence)\n",
    "    negative = sentiment_dict['neg']\n",
    "    neutral = sentiment_dict['neu']\n",
    "    positive = sentiment_dict['pos']\n",
    "    compound = sentiment_dict['compound']\n",
    "\n",
    "    if sentiment_dict['compound'] >= 0.05 :\n",
    "        overall_sentiment = \"Positive\"\n",
    "\n",
    "    elif sentiment_dict['compound'] <= - 0.05 :\n",
    "        overall_sentiment = \"Negative\"\n",
    "\n",
    "    else :\n",
    "        overall_sentiment = \"Neutral\"\n",
    "  \n",
    "    return negative, neutral, positive, compound, overall_sentiment"
   ]
  },
  {
   "cell_type": "code",
   "execution_count": 9,
   "id": "511ee24d",
   "metadata": {},
   "outputs": [
    {
     "data": {
      "text/plain": [
       "(0.0, 0.0, 1.0, 0.6249, 'Positive')"
      ]
     },
     "execution_count": 9,
     "metadata": {},
     "output_type": "execute_result"
    }
   ],
   "source": [
    "sentiment_vader(\"Great\")"
   ]
  },
  {
   "cell_type": "code",
   "execution_count": 10,
   "id": "74a30159",
   "metadata": {},
   "outputs": [
    {
     "data": {
      "text/plain": [
       "(0.0, 1.0, 0.0, 0.0, 'Neutral')"
      ]
     },
     "execution_count": 10,
     "metadata": {},
     "output_type": "execute_result"
    }
   ],
   "source": [
    "sentiment_vader(\"Ouh\")"
   ]
  },
  {
   "cell_type": "code",
   "execution_count": 11,
   "id": "9c0a2aa2",
   "metadata": {},
   "outputs": [
    {
     "data": {
      "text/plain": [
       "(0.636, 0.364, 0.0, -0.5423, 'Negative')"
      ]
     },
     "execution_count": 11,
     "metadata": {},
     "output_type": "execute_result"
    }
   ],
   "source": [
    "sentiment_vader(\"You are horrible\")"
   ]
  },
  {
   "cell_type": "code",
   "execution_count": 12,
   "id": "703a3c06",
   "metadata": {},
   "outputs": [],
   "source": [
    "df[\"sentiment\"] = [sentiment_vader(i)[4] for i in df[\"content\"]]"
   ]
  },
  {
   "cell_type": "markdown",
   "id": "2f5384fa",
   "metadata": {},
   "source": [
    "Se añade la determinación de análsis de sentimiento al dataset."
   ]
  },
  {
   "cell_type": "code",
   "execution_count": 13,
   "id": "fd5b80a7",
   "metadata": {
    "scrolled": true
   },
   "outputs": [
    {
     "data": {
      "text/html": [
       "<div>\n",
       "<style scoped>\n",
       "    .dataframe tbody tr th:only-of-type {\n",
       "        vertical-align: middle;\n",
       "    }\n",
       "\n",
       "    .dataframe tbody tr th {\n",
       "        vertical-align: top;\n",
       "    }\n",
       "\n",
       "    .dataframe thead th {\n",
       "        text-align: right;\n",
       "    }\n",
       "</style>\n",
       "<table border=\"1\" class=\"dataframe\">\n",
       "  <thead>\n",
       "    <tr style=\"text-align: right;\">\n",
       "      <th></th>\n",
       "      <th>date</th>\n",
       "      <th>id</th>\n",
       "      <th>content</th>\n",
       "      <th>username</th>\n",
       "      <th>like_count</th>\n",
       "      <th>retweet_count</th>\n",
       "      <th>sentiment</th>\n",
       "    </tr>\n",
       "  </thead>\n",
       "  <tbody>\n",
       "    <tr>\n",
       "      <th>0</th>\n",
       "      <td>2023-03-22 04:12:14+00:00</td>\n",
       "      <td>1638393121863094272</td>\n",
       "      <td>#PensándoloBien (programa completo) con Gonzal...</td>\n",
       "      <td>Aenfoco</td>\n",
       "      <td>0</td>\n",
       "      <td>0</td>\n",
       "      <td>Neutral</td>\n",
       "    </tr>\n",
       "    <tr>\n",
       "      <th>1</th>\n",
       "      <td>2023-03-22 04:12:07+00:00</td>\n",
       "      <td>1638393090783191040</td>\n",
       "      <td>@JoJoFromJerz 8 years and counting....so when'...</td>\n",
       "      <td>whipplewart</td>\n",
       "      <td>0</td>\n",
       "      <td>0</td>\n",
       "      <td>Neutral</td>\n",
       "    </tr>\n",
       "    <tr>\n",
       "      <th>2</th>\n",
       "      <td>2023-03-22 04:12:05+00:00</td>\n",
       "      <td>1638393082273226753</td>\n",
       "      <td>@noclador Who's Donald Trump?</td>\n",
       "      <td>Zatananas</td>\n",
       "      <td>0</td>\n",
       "      <td>0</td>\n",
       "      <td>Neutral</td>\n",
       "    </tr>\n",
       "    <tr>\n",
       "      <th>3</th>\n",
       "      <td>2023-03-22 04:12:03+00:00</td>\n",
       "      <td>1638393075138437122</td>\n",
       "      <td>Donald trump is NOT a Republican !!!!!He is a ...</td>\n",
       "      <td>EricaGotcha</td>\n",
       "      <td>0</td>\n",
       "      <td>0</td>\n",
       "      <td>Neutral</td>\n",
       "    </tr>\n",
       "    <tr>\n",
       "      <th>4</th>\n",
       "      <td>2023-03-22 04:12:01+00:00</td>\n",
       "      <td>1638393064619233281</td>\n",
       "      <td>Hey Jim Jordan Your committee is a joke, espec...</td>\n",
       "      <td>LKaye2</td>\n",
       "      <td>0</td>\n",
       "      <td>0</td>\n",
       "      <td>Neutral</td>\n",
       "    </tr>\n",
       "    <tr>\n",
       "      <th>...</th>\n",
       "      <td>...</td>\n",
       "      <td>...</td>\n",
       "      <td>...</td>\n",
       "      <td>...</td>\n",
       "      <td>...</td>\n",
       "      <td>...</td>\n",
       "      <td>...</td>\n",
       "    </tr>\n",
       "    <tr>\n",
       "      <th>96</th>\n",
       "      <td>2023-03-22 04:04:26+00:00</td>\n",
       "      <td>1638391156085239808</td>\n",
       "      <td>@hornersaz53 @LeadingReport I heard, Pres. Don...</td>\n",
       "      <td>TinaMSchmidt2</td>\n",
       "      <td>0</td>\n",
       "      <td>0</td>\n",
       "      <td>Positive</td>\n",
       "    </tr>\n",
       "    <tr>\n",
       "      <th>97</th>\n",
       "      <td>2023-03-22 04:04:24+00:00</td>\n",
       "      <td>1638391149894283264</td>\n",
       "      <td>@The_Trump_Train Yes he needs too be arrested....</td>\n",
       "      <td>Elizabe13881685</td>\n",
       "      <td>0</td>\n",
       "      <td>0</td>\n",
       "      <td>Positive</td>\n",
       "    </tr>\n",
       "    <tr>\n",
       "      <th>98</th>\n",
       "      <td>2023-03-22 04:04:24+00:00</td>\n",
       "      <td>1638391149533511683</td>\n",
       "      <td>Donald Trump may finally face an indictment ht...</td>\n",
       "      <td>BestFinanciall</td>\n",
       "      <td>0</td>\n",
       "      <td>0</td>\n",
       "      <td>Neutral</td>\n",
       "    </tr>\n",
       "    <tr>\n",
       "      <th>99</th>\n",
       "      <td>2023-03-22 04:04:16+00:00</td>\n",
       "      <td>1638391114528067586</td>\n",
       "      <td>Donald Trump, where are you going?🏑 https://t....</td>\n",
       "      <td>wuxiangshengxi</td>\n",
       "      <td>0</td>\n",
       "      <td>0</td>\n",
       "      <td>Neutral</td>\n",
       "    </tr>\n",
       "    <tr>\n",
       "      <th>100</th>\n",
       "      <td>2023-03-22 04:04:10+00:00</td>\n",
       "      <td>1638391089009664005</td>\n",
       "      <td>Random Trump https://t.co/jiepMeikVo - #random...</td>\n",
       "      <td>randomtrump1</td>\n",
       "      <td>0</td>\n",
       "      <td>0</td>\n",
       "      <td>Neutral</td>\n",
       "    </tr>\n",
       "  </tbody>\n",
       "</table>\n",
       "<p>101 rows × 7 columns</p>\n",
       "</div>"
      ],
      "text/plain": [
       "                         date                   id  \\\n",
       "0   2023-03-22 04:12:14+00:00  1638393121863094272   \n",
       "1   2023-03-22 04:12:07+00:00  1638393090783191040   \n",
       "2   2023-03-22 04:12:05+00:00  1638393082273226753   \n",
       "3   2023-03-22 04:12:03+00:00  1638393075138437122   \n",
       "4   2023-03-22 04:12:01+00:00  1638393064619233281   \n",
       "..                        ...                  ...   \n",
       "96  2023-03-22 04:04:26+00:00  1638391156085239808   \n",
       "97  2023-03-22 04:04:24+00:00  1638391149894283264   \n",
       "98  2023-03-22 04:04:24+00:00  1638391149533511683   \n",
       "99  2023-03-22 04:04:16+00:00  1638391114528067586   \n",
       "100 2023-03-22 04:04:10+00:00  1638391089009664005   \n",
       "\n",
       "                                               content         username  \\\n",
       "0    #PensándoloBien (programa completo) con Gonzal...          Aenfoco   \n",
       "1    @JoJoFromJerz 8 years and counting....so when'...      whipplewart   \n",
       "2                        @noclador Who's Donald Trump?        Zatananas   \n",
       "3    Donald trump is NOT a Republican !!!!!He is a ...      EricaGotcha   \n",
       "4    Hey Jim Jordan Your committee is a joke, espec...           LKaye2   \n",
       "..                                                 ...              ...   \n",
       "96   @hornersaz53 @LeadingReport I heard, Pres. Don...    TinaMSchmidt2   \n",
       "97   @The_Trump_Train Yes he needs too be arrested....  Elizabe13881685   \n",
       "98   Donald Trump may finally face an indictment ht...   BestFinanciall   \n",
       "99   Donald Trump, where are you going?🏑 https://t....   wuxiangshengxi   \n",
       "100  Random Trump https://t.co/jiepMeikVo - #random...     randomtrump1   \n",
       "\n",
       "     like_count  retweet_count sentiment  \n",
       "0             0              0   Neutral  \n",
       "1             0              0   Neutral  \n",
       "2             0              0   Neutral  \n",
       "3             0              0   Neutral  \n",
       "4             0              0   Neutral  \n",
       "..          ...            ...       ...  \n",
       "96            0              0  Positive  \n",
       "97            0              0  Positive  \n",
       "98            0              0   Neutral  \n",
       "99            0              0   Neutral  \n",
       "100           0              0   Neutral  \n",
       "\n",
       "[101 rows x 7 columns]"
      ]
     },
     "execution_count": 13,
     "metadata": {},
     "output_type": "execute_result"
    }
   ],
   "source": [
    "df"
   ]
  },
  {
   "cell_type": "markdown",
   "id": "ab628d77",
   "metadata": {},
   "source": [
    "Se realiza un gráfico de pastel con lo obtenido en el análisis de sentimiento."
   ]
  },
  {
   "cell_type": "code",
   "execution_count": 14,
   "id": "de9b82d9",
   "metadata": {},
   "outputs": [
    {
     "data": {
      "image/png": "[encoded data removed]",
      "text/plain": [
       "<Figure size 720x720 with 1 Axes>"
      ]
     },
     "metadata": {},
     "output_type": "display_data"
    }
   ],
   "source": [
    "fig = plt.figure(figsize=(10,10))\n",
    "df.groupby(\"sentiment\")[\"sentiment\"].count().plot.pie()\n",
    "fig.savefig('../results/pie.png')"
   ]
  }
 ],
 "metadata": {
  "kernelspec": {
   "display_name": "Python 3 (ipykernel)",
   "language": "python",
   "name": "python3"
  },
  "language_info": {
   "codemirror_mode": {
    "name": "ipython",
    "version": 3
   },
   "file_extension": ".py",
   "mimetype": "text/x-python",
   "name": "python",
   "nbconvert_exporter": "python",
   "pygments_lexer": "ipython3",
   "version": "3.8.5"
  }
 },
 "nbformat": 4,
 "nbformat_minor": 5
}

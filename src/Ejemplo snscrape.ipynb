{
 "cells": [
  {
   "cell_type": "markdown",
   "id": "ab18eaea",
   "metadata": {},
   "source": [
    "# Ejemplo snscrape"
   ]
  },
  {
   "cell_type": "markdown",
   "id": "d72c893b",
   "metadata": {},
   "source": [
    "## Realizar un análisis de sentimiento de 1,000 tweets para saber el consenso general (positivo, negativo, neutral) del término de búsqueda \"Donald Trump\"."
   ]
  },
  {
   "cell_type": "markdown",
   "id": "b8d664c3",
   "metadata": {},
   "source": [
    "Librerías utilizadas"
   ]
  },
  {
   "cell_type": "code",
   "execution_count": 1,
   "id": "c20ea9df",
   "metadata": {},
   "outputs": [],
   "source": [
    "import pandas as pd\n",
    "from tqdm.notebook import tqdm\n",
    "import snscrape.modules.twitter as sntwitter"
   ]
  },
  {
   "cell_type": "markdown",
   "id": "cb71a7bc",
   "metadata": {},
   "source": [
    "Se define el Scrapper"
   ]
  },
  {
   "cell_type": "code",
   "execution_count": 2,
   "id": "c9829627",
   "metadata": {},
   "outputs": [],
   "source": [
    "scraper = sntwitter.TwitterSearchScraper(\"Donald Trump\")"
   ]
  },
  {
   "cell_type": "code",
   "execution_count": 3,
   "id": "22ebcf86",
   "metadata": {},
   "outputs": [],
   "source": [
    "for tweet in scraper.get_items():\n",
    "    break"
   ]
  },
  {
   "cell_type": "markdown",
   "id": "b1b06dfc",
   "metadata": {},
   "source": [
    "Objeto tweet"
   ]
  },
  {
   "cell_type": "code",
   "execution_count": 4,
   "id": "5f6a19b4",
   "metadata": {
    "scrolled": true
   },
   "outputs": [
    {
     "data": {
      "text/plain": [
       "Tweet(url='https://twitter.com/pkmnlocator/status/1638326175067172867', date=datetime.datetime(2023, 3, 21, 23, 46, 13, tzinfo=datetime.timezone.utc), rawContent=\"Marowak was recently seen lurking underneath Donald Trump's hair.\", renderedContent=\"Marowak was recently seen lurking underneath Donald Trump's hair.\", id=1638326175067172867, user=User(username='pkmnlocator', id=760164450506829824, displayname='Pokémon Locator', rawDescription='Helping you find Pokémon wherever they roam! Follow our advice. Find The Pokémon. Created by @foresthousecult and @r0wdyruff.', renderedDescription='Helping you find Pokémon wherever they roam! Follow our advice. Find The Pokémon. Created by @foresthousecult and @r0wdyruff.', descriptionLinks=None, verified=False, created=datetime.datetime(2016, 8, 1, 17, 25, 2, tzinfo=datetime.timezone.utc), followersCount=56, friendsCount=4, statusesCount=114309, favouritesCount=1, listedCount=4, mediaCount=0, location='', protected=False, link=None, profileImageUrl='https://pbs.twimg.com/profile_images/760177738544254977/llsSTgFW_normal.jpg', profileBannerUrl=None, label=None), replyCount=0, retweetCount=0, likeCount=0, quoteCount=0, conversationId=1638326175067172867, lang='en', source='<a href=\"https://cheapbotsdonequick.com\" rel=\"nofollow\">Cheap Bots, Done Quick!</a>', sourceUrl='https://cheapbotsdonequick.com', sourceLabel='Cheap Bots, Done Quick!', links=None, media=None, retweetedTweet=None, quotedTweet=None, inReplyToTweetId=None, inReplyToUser=None, mentionedUsers=None, coordinates=None, place=None, hashtags=None, cashtags=None, card=None, viewCount=None, vibe=None)"
      ]
     },
     "execution_count": 4,
     "metadata": {},
     "output_type": "execute_result"
    }
   ],
   "source": [
    "tweet"
   ]
  },
  {
   "cell_type": "markdown",
   "id": "9ee80d86",
   "metadata": {},
   "source": [
    "Se extraen los datos importantes de un tweet y se guardan en un dataframe"
   ]
  },
  {
   "cell_type": "code",
   "execution_count": 5,
   "id": "54276736",
   "metadata": {},
   "outputs": [
    {
     "data": {
      "application/vnd.jupyter.widget-view+json": {
       "model_id": "29587387f53443ea8a6ebb30f20da19e",
       "version_major": 2,
       "version_minor": 0
      },
      "text/plain": [
       "  0%|          | 0/100 [00:00<?, ?it/s]"
      ]
     },
     "metadata": {},
     "output_type": "display_data"
    }
   ],
   "source": [
    "tweets = []\n",
    "ntweets = 100\n",
    "for i, tweet in tqdm(enumerate(scraper.get_items()), total = ntweets):\n",
    "    data = [\n",
    "        tweet.date,\n",
    "        tweet.id,\n",
    "        tweet.rawContent,\n",
    "        tweet.user.username,\n",
    "        tweet.likeCount,\n",
    "        tweet.retweetCount\n",
    "    ]\n",
    "    tweets.append(data)\n",
    "    \n",
    "    if i >= ntweets:\n",
    "        break\n",
    "\n",
    "df = pd.DataFrame(\n",
    "    tweets, columns=[\"date\", \"id\", \"content\", \"username\", \"like_count\", \"retweet_count\"])\n",
    "df.to_csv(\"tweets.csv\", index=False)"
   ]
  },
  {
   "cell_type": "code",
   "execution_count": 6,
   "id": "a6b68748",
   "metadata": {},
   "outputs": [
    {
     "data": {
      "text/html": [
       "<div>\n",
       "<style scoped>\n",
       "    .dataframe tbody tr th:only-of-type {\n",
       "        vertical-align: middle;\n",
       "    }\n",
       "\n",
       "    .dataframe tbody tr th {\n",
       "        vertical-align: top;\n",
       "    }\n",
       "\n",
       "    .dataframe thead th {\n",
       "        text-align: right;\n",
       "    }\n",
       "</style>\n",
       "<table border=\"1\" class=\"dataframe\">\n",
       "  <thead>\n",
       "    <tr style=\"text-align: right;\">\n",
       "      <th></th>\n",
       "      <th>date</th>\n",
       "      <th>id</th>\n",
       "      <th>content</th>\n",
       "      <th>username</th>\n",
       "      <th>like_count</th>\n",
       "      <th>retweet_count</th>\n",
       "    </tr>\n",
       "  </thead>\n",
       "  <tbody>\n",
       "    <tr>\n",
       "      <th>0</th>\n",
       "      <td>2023-03-21 23:46:13+00:00</td>\n",
       "      <td>1638326175067172867</td>\n",
       "      <td>Marowak was recently seen lurking underneath D...</td>\n",
       "      <td>pkmnlocator</td>\n",
       "      <td>0</td>\n",
       "      <td>0</td>\n",
       "    </tr>\n",
       "    <tr>\n",
       "      <th>1</th>\n",
       "      <td>2023-03-21 23:46:08+00:00</td>\n",
       "      <td>1638326153998921728</td>\n",
       "      <td>Tuesday working hours have come and gone witho...</td>\n",
       "      <td>DanRodricks</td>\n",
       "      <td>1</td>\n",
       "      <td>0</td>\n",
       "    </tr>\n",
       "    <tr>\n",
       "      <th>2</th>\n",
       "      <td>2023-03-21 23:46:05+00:00</td>\n",
       "      <td>1638326140472369155</td>\n",
       "      <td>@MarioNawfal It never ends, these people are a...</td>\n",
       "      <td>debbyredding20</td>\n",
       "      <td>0</td>\n",
       "      <td>0</td>\n",
       "    </tr>\n",
       "    <tr>\n",
       "      <th>3</th>\n",
       "      <td>2023-03-21 23:46:02+00:00</td>\n",
       "      <td>1638326130888388609</td>\n",
       "      <td>Here's how Louisiana Republicans are respondin...</td>\n",
       "      <td>NOLAnews</td>\n",
       "      <td>0</td>\n",
       "      <td>0</td>\n",
       "    </tr>\n",
       "    <tr>\n",
       "      <th>4</th>\n",
       "      <td>2023-03-21 23:46:01+00:00</td>\n",
       "      <td>1638326127100821504</td>\n",
       "      <td>@EliseStefanik REALITY\\n\\nA core crime that th...</td>\n",
       "      <td>SoulWomen</td>\n",
       "      <td>0</td>\n",
       "      <td>0</td>\n",
       "    </tr>\n",
       "    <tr>\n",
       "      <th>...</th>\n",
       "      <td>...</td>\n",
       "      <td>...</td>\n",
       "      <td>...</td>\n",
       "      <td>...</td>\n",
       "      <td>...</td>\n",
       "      <td>...</td>\n",
       "    </tr>\n",
       "    <tr>\n",
       "      <th>96</th>\n",
       "      <td>2023-03-21 23:42:33+00:00</td>\n",
       "      <td>1638325252101926912</td>\n",
       "      <td>@nytimes All this is a campaign commercial for...</td>\n",
       "      <td>phummel78</td>\n",
       "      <td>0</td>\n",
       "      <td>0</td>\n",
       "    </tr>\n",
       "    <tr>\n",
       "      <th>97</th>\n",
       "      <td>2023-03-21 23:42:32+00:00</td>\n",
       "      <td>1638325250076057600</td>\n",
       "      <td>Donald Trump supporters begin gathering in New...</td>\n",
       "      <td>SCMPNews</td>\n",
       "      <td>3</td>\n",
       "      <td>1</td>\n",
       "    </tr>\n",
       "    <tr>\n",
       "      <th>98</th>\n",
       "      <td>2023-03-21 23:42:30+00:00</td>\n",
       "      <td>1638325240580251649</td>\n",
       "      <td>This video is why #DonaldTrump should be Presi...</td>\n",
       "      <td>TommyBo03328068</td>\n",
       "      <td>0</td>\n",
       "      <td>0</td>\n",
       "    </tr>\n",
       "    <tr>\n",
       "      <th>99</th>\n",
       "      <td>2023-03-21 23:42:29+00:00</td>\n",
       "      <td>1638325237442830336</td>\n",
       "      <td>Before we get too far down the rabbit-hole, he...</td>\n",
       "      <td>nontech_techie</td>\n",
       "      <td>0</td>\n",
       "      <td>0</td>\n",
       "    </tr>\n",
       "    <tr>\n",
       "      <th>100</th>\n",
       "      <td>2023-03-21 23:42:28+00:00</td>\n",
       "      <td>1638325233428856833</td>\n",
       "      <td>@McBrideLawNYC @AdamKinzinger Donald Trump is ...</td>\n",
       "      <td>lafilledsonpere</td>\n",
       "      <td>0</td>\n",
       "      <td>0</td>\n",
       "    </tr>\n",
       "  </tbody>\n",
       "</table>\n",
       "<p>101 rows × 6 columns</p>\n",
       "</div>"
      ],
      "text/plain": [
       "                         date                   id  \\\n",
       "0   2023-03-21 23:46:13+00:00  1638326175067172867   \n",
       "1   2023-03-21 23:46:08+00:00  1638326153998921728   \n",
       "2   2023-03-21 23:46:05+00:00  1638326140472369155   \n",
       "3   2023-03-21 23:46:02+00:00  1638326130888388609   \n",
       "4   2023-03-21 23:46:01+00:00  1638326127100821504   \n",
       "..                        ...                  ...   \n",
       "96  2023-03-21 23:42:33+00:00  1638325252101926912   \n",
       "97  2023-03-21 23:42:32+00:00  1638325250076057600   \n",
       "98  2023-03-21 23:42:30+00:00  1638325240580251649   \n",
       "99  2023-03-21 23:42:29+00:00  1638325237442830336   \n",
       "100 2023-03-21 23:42:28+00:00  1638325233428856833   \n",
       "\n",
       "                                               content         username  \\\n",
       "0    Marowak was recently seen lurking underneath D...      pkmnlocator   \n",
       "1    Tuesday working hours have come and gone witho...      DanRodricks   \n",
       "2    @MarioNawfal It never ends, these people are a...   debbyredding20   \n",
       "3    Here's how Louisiana Republicans are respondin...         NOLAnews   \n",
       "4    @EliseStefanik REALITY\\n\\nA core crime that th...        SoulWomen   \n",
       "..                                                 ...              ...   \n",
       "96   @nytimes All this is a campaign commercial for...        phummel78   \n",
       "97   Donald Trump supporters begin gathering in New...         SCMPNews   \n",
       "98   This video is why #DonaldTrump should be Presi...  TommyBo03328068   \n",
       "99   Before we get too far down the rabbit-hole, he...   nontech_techie   \n",
       "100  @McBrideLawNYC @AdamKinzinger Donald Trump is ...  lafilledsonpere   \n",
       "\n",
       "     like_count  retweet_count  \n",
       "0             0              0  \n",
       "1             1              0  \n",
       "2             0              0  \n",
       "3             0              0  \n",
       "4             0              0  \n",
       "..          ...            ...  \n",
       "96            0              0  \n",
       "97            3              1  \n",
       "98            0              0  \n",
       "99            0              0  \n",
       "100           0              0  \n",
       "\n",
       "[101 rows x 6 columns]"
      ]
     },
     "execution_count": 6,
     "metadata": {},
     "output_type": "execute_result"
    }
   ],
   "source": [
    "df"
   ]
  },
  {
   "cell_type": "markdown",
   "id": "14d8c103",
   "metadata": {},
   "source": [
    "Se utiliza una librería de análisis de sentimiento preentrenada"
   ]
  },
  {
   "cell_type": "code",
   "execution_count": 8,
   "id": "ae1c45ab",
   "metadata": {},
   "outputs": [],
   "source": [
    "from vaderSentiment.vaderSentiment import SentimentIntensityAnalyzer"
   ]
  },
  {
   "cell_type": "code",
   "execution_count": 9,
   "id": "d1ab327f",
   "metadata": {
    "scrolled": true
   },
   "outputs": [],
   "source": [
    "def sentiment_vader(sentence):\n",
    "\n",
    "    # Create a SentimentIntensityAnalyzer object.\n",
    "    sid_obj = SentimentIntensityAnalyzer()\n",
    "\n",
    "    sentiment_dict = sid_obj.polarity_scores(sentence)\n",
    "    negative = sentiment_dict['neg']\n",
    "    neutral = sentiment_dict['neu']\n",
    "    positive = sentiment_dict['pos']\n",
    "    compound = sentiment_dict['compound']\n",
    "\n",
    "    if sentiment_dict['compound'] >= 0.05 :\n",
    "        overall_sentiment = \"Positive\"\n",
    "\n",
    "    elif sentiment_dict['compound'] <= - 0.05 :\n",
    "        overall_sentiment = \"Negative\"\n",
    "\n",
    "    else :\n",
    "        overall_sentiment = \"Neutral\"\n",
    "  \n",
    "    return negative, neutral, positive, compound, overall_sentiment"
   ]
  },
  {
   "cell_type": "code",
   "execution_count": 10,
   "id": "511ee24d",
   "metadata": {},
   "outputs": [
    {
     "data": {
      "text/plain": [
       "(0.0, 0.0, 1.0, 0.6249, 'Positive')"
      ]
     },
     "execution_count": 10,
     "metadata": {},
     "output_type": "execute_result"
    }
   ],
   "source": [
    "sentiment_vader(\"Great\")"
   ]
  },
  {
   "cell_type": "code",
   "execution_count": 11,
   "id": "74a30159",
   "metadata": {},
   "outputs": [
    {
     "data": {
      "text/plain": [
       "(0.0, 1.0, 0.0, 0.0, 'Neutral')"
      ]
     },
     "execution_count": 11,
     "metadata": {},
     "output_type": "execute_result"
    }
   ],
   "source": [
    "sentiment_vader(\"Ouh\")"
   ]
  },
  {
   "cell_type": "code",
   "execution_count": 12,
   "id": "9c0a2aa2",
   "metadata": {},
   "outputs": [
    {
     "data": {
      "text/plain": [
       "(0.636, 0.364, 0.0, -0.5423, 'Negative')"
      ]
     },
     "execution_count": 12,
     "metadata": {},
     "output_type": "execute_result"
    }
   ],
   "source": [
    "sentiment_vader(\"You are horrible\")"
   ]
  },
  {
   "cell_type": "code",
   "execution_count": 13,
   "id": "703a3c06",
   "metadata": {},
   "outputs": [],
   "source": [
    "df[\"sentiment\"] = [sentiment_vader(i)[4] for i in df[\"content\"]]"
   ]
  },
  {
   "cell_type": "markdown",
   "id": "2f5384fa",
   "metadata": {},
   "source": [
    "Se añade la determinación de análsis de sentimiento al dataset."
   ]
  },
  {
   "cell_type": "code",
   "execution_count": 14,
   "id": "fd5b80a7",
   "metadata": {
    "scrolled": true
   },
   "outputs": [
    {
     "data": {
      "text/html": [
       "<div>\n",
       "<style scoped>\n",
       "    .dataframe tbody tr th:only-of-type {\n",
       "        vertical-align: middle;\n",
       "    }\n",
       "\n",
       "    .dataframe tbody tr th {\n",
       "        vertical-align: top;\n",
       "    }\n",
       "\n",
       "    .dataframe thead th {\n",
       "        text-align: right;\n",
       "    }\n",
       "</style>\n",
       "<table border=\"1\" class=\"dataframe\">\n",
       "  <thead>\n",
       "    <tr style=\"text-align: right;\">\n",
       "      <th></th>\n",
       "      <th>date</th>\n",
       "      <th>id</th>\n",
       "      <th>content</th>\n",
       "      <th>username</th>\n",
       "      <th>like_count</th>\n",
       "      <th>retweet_count</th>\n",
       "      <th>sentiment</th>\n",
       "    </tr>\n",
       "  </thead>\n",
       "  <tbody>\n",
       "    <tr>\n",
       "      <th>0</th>\n",
       "      <td>2023-03-21 23:46:13+00:00</td>\n",
       "      <td>1638326175067172867</td>\n",
       "      <td>Marowak was recently seen lurking underneath D...</td>\n",
       "      <td>pkmnlocator</td>\n",
       "      <td>0</td>\n",
       "      <td>0</td>\n",
       "      <td>Negative</td>\n",
       "    </tr>\n",
       "    <tr>\n",
       "      <th>1</th>\n",
       "      <td>2023-03-21 23:46:08+00:00</td>\n",
       "      <td>1638326153998921728</td>\n",
       "      <td>Tuesday working hours have come and gone witho...</td>\n",
       "      <td>DanRodricks</td>\n",
       "      <td>1</td>\n",
       "      <td>0</td>\n",
       "      <td>Positive</td>\n",
       "    </tr>\n",
       "    <tr>\n",
       "      <th>2</th>\n",
       "      <td>2023-03-21 23:46:05+00:00</td>\n",
       "      <td>1638326140472369155</td>\n",
       "      <td>@MarioNawfal It never ends, these people are a...</td>\n",
       "      <td>debbyredding20</td>\n",
       "      <td>0</td>\n",
       "      <td>0</td>\n",
       "      <td>Negative</td>\n",
       "    </tr>\n",
       "    <tr>\n",
       "      <th>3</th>\n",
       "      <td>2023-03-21 23:46:02+00:00</td>\n",
       "      <td>1638326130888388609</td>\n",
       "      <td>Here's how Louisiana Republicans are respondin...</td>\n",
       "      <td>NOLAnews</td>\n",
       "      <td>0</td>\n",
       "      <td>0</td>\n",
       "      <td>Negative</td>\n",
       "    </tr>\n",
       "    <tr>\n",
       "      <th>4</th>\n",
       "      <td>2023-03-21 23:46:01+00:00</td>\n",
       "      <td>1638326127100821504</td>\n",
       "      <td>@EliseStefanik REALITY\\n\\nA core crime that th...</td>\n",
       "      <td>SoulWomen</td>\n",
       "      <td>0</td>\n",
       "      <td>0</td>\n",
       "      <td>Negative</td>\n",
       "    </tr>\n",
       "    <tr>\n",
       "      <th>...</th>\n",
       "      <td>...</td>\n",
       "      <td>...</td>\n",
       "      <td>...</td>\n",
       "      <td>...</td>\n",
       "      <td>...</td>\n",
       "      <td>...</td>\n",
       "      <td>...</td>\n",
       "    </tr>\n",
       "    <tr>\n",
       "      <th>96</th>\n",
       "      <td>2023-03-21 23:42:33+00:00</td>\n",
       "      <td>1638325252101926912</td>\n",
       "      <td>@nytimes All this is a campaign commercial for...</td>\n",
       "      <td>phummel78</td>\n",
       "      <td>0</td>\n",
       "      <td>0</td>\n",
       "      <td>Neutral</td>\n",
       "    </tr>\n",
       "    <tr>\n",
       "      <th>97</th>\n",
       "      <td>2023-03-21 23:42:32+00:00</td>\n",
       "      <td>1638325250076057600</td>\n",
       "      <td>Donald Trump supporters begin gathering in New...</td>\n",
       "      <td>SCMPNews</td>\n",
       "      <td>3</td>\n",
       "      <td>1</td>\n",
       "      <td>Positive</td>\n",
       "    </tr>\n",
       "    <tr>\n",
       "      <th>98</th>\n",
       "      <td>2023-03-21 23:42:30+00:00</td>\n",
       "      <td>1638325240580251649</td>\n",
       "      <td>This video is why #DonaldTrump should be Presi...</td>\n",
       "      <td>TommyBo03328068</td>\n",
       "      <td>0</td>\n",
       "      <td>0</td>\n",
       "      <td>Negative</td>\n",
       "    </tr>\n",
       "    <tr>\n",
       "      <th>99</th>\n",
       "      <td>2023-03-21 23:42:29+00:00</td>\n",
       "      <td>1638325237442830336</td>\n",
       "      <td>Before we get too far down the rabbit-hole, he...</td>\n",
       "      <td>nontech_techie</td>\n",
       "      <td>0</td>\n",
       "      <td>0</td>\n",
       "      <td>Negative</td>\n",
       "    </tr>\n",
       "    <tr>\n",
       "      <th>100</th>\n",
       "      <td>2023-03-21 23:42:28+00:00</td>\n",
       "      <td>1638325233428856833</td>\n",
       "      <td>@McBrideLawNYC @AdamKinzinger Donald Trump is ...</td>\n",
       "      <td>lafilledsonpere</td>\n",
       "      <td>0</td>\n",
       "      <td>0</td>\n",
       "      <td>Negative</td>\n",
       "    </tr>\n",
       "  </tbody>\n",
       "</table>\n",
       "<p>101 rows × 7 columns</p>\n",
       "</div>"
      ],
      "text/plain": [
       "                         date                   id  \\\n",
       "0   2023-03-21 23:46:13+00:00  1638326175067172867   \n",
       "1   2023-03-21 23:46:08+00:00  1638326153998921728   \n",
       "2   2023-03-21 23:46:05+00:00  1638326140472369155   \n",
       "3   2023-03-21 23:46:02+00:00  1638326130888388609   \n",
       "4   2023-03-21 23:46:01+00:00  1638326127100821504   \n",
       "..                        ...                  ...   \n",
       "96  2023-03-21 23:42:33+00:00  1638325252101926912   \n",
       "97  2023-03-21 23:42:32+00:00  1638325250076057600   \n",
       "98  2023-03-21 23:42:30+00:00  1638325240580251649   \n",
       "99  2023-03-21 23:42:29+00:00  1638325237442830336   \n",
       "100 2023-03-21 23:42:28+00:00  1638325233428856833   \n",
       "\n",
       "                                               content         username  \\\n",
       "0    Marowak was recently seen lurking underneath D...      pkmnlocator   \n",
       "1    Tuesday working hours have come and gone witho...      DanRodricks   \n",
       "2    @MarioNawfal It never ends, these people are a...   debbyredding20   \n",
       "3    Here's how Louisiana Republicans are respondin...         NOLAnews   \n",
       "4    @EliseStefanik REALITY\\n\\nA core crime that th...        SoulWomen   \n",
       "..                                                 ...              ...   \n",
       "96   @nytimes All this is a campaign commercial for...        phummel78   \n",
       "97   Donald Trump supporters begin gathering in New...         SCMPNews   \n",
       "98   This video is why #DonaldTrump should be Presi...  TommyBo03328068   \n",
       "99   Before we get too far down the rabbit-hole, he...   nontech_techie   \n",
       "100  @McBrideLawNYC @AdamKinzinger Donald Trump is ...  lafilledsonpere   \n",
       "\n",
       "     like_count  retweet_count sentiment  \n",
       "0             0              0  Negative  \n",
       "1             1              0  Positive  \n",
       "2             0              0  Negative  \n",
       "3             0              0  Negative  \n",
       "4             0              0  Negative  \n",
       "..          ...            ...       ...  \n",
       "96            0              0   Neutral  \n",
       "97            3              1  Positive  \n",
       "98            0              0  Negative  \n",
       "99            0              0  Negative  \n",
       "100           0              0  Negative  \n",
       "\n",
       "[101 rows x 7 columns]"
      ]
     },
     "execution_count": 14,
     "metadata": {},
     "output_type": "execute_result"
    }
   ],
   "source": [
    "df"
   ]
  },
  {
   "cell_type": "markdown",
   "id": "ab628d77",
   "metadata": {},
   "source": [
    "Se realiza un gráfico de pastel con lo obtenido en el análisis de sentimiento."
   ]
  },
  {
   "cell_type": "code",
   "execution_count": 15,
   "id": "de9b82d9",
   "metadata": {},
   "outputs": [
    {
     "data": {
      "image/png": "[encoded data removed]",
      "text/plain": [
       "<Figure size 720x720 with 1 Axes>"
      ]
     },
     "metadata": {},
     "output_type": "display_data"
    }
   ],
   "source": [
    "df_1 = df.groupby(\"sentiment\")[\"sentiment\"].count().plot.pie(figsize=(10,10))"
   ]
  }
 ],
 "metadata": {
  "kernelspec": {
   "display_name": "Python 3 (ipykernel)",
   "language": "python",
   "name": "python3"
  },
  "language_info": {
   "codemirror_mode": {
    "name": "ipython",
    "version": 3
   },
   "file_extension": ".py",
   "mimetype": "text/x-python",
   "name": "python",
   "nbconvert_exporter": "python",
   "pygments_lexer": "ipython3",
   "version": "3.8.5"
  }
 },
 "nbformat": 4,
 "nbformat_minor": 5
}
